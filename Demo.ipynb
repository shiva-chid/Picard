{
 "cells": [
  {
   "cell_type": "code",
   "execution_count": 1,
   "metadata": {
    "collapsed": false,
    "scrolled": true
   },
   "outputs": [
    {
     "name": "stdout",
     "output_type": "stream",
     "text": [
      "Loading \"main.m\"\r\n",
      "Loading \"maxgrp_containment_tests.m\"\r\n",
      "Loading \"Lpolys.m\"\r\n",
      "Loading \"quad_cubic_fields.m\"\r\n"
     ]
    },
    {
     "name": "stdout",
     "output_type": "stream",
     "text": [
     ]
    }
   ],
   "source": [
    "load \"main.m\";"
   ]
  },
  {
   "cell_type": "code",
   "execution_count": 2,
   "metadata": {
    "collapsed": false
   },
   "outputs": [
    {
     "name": "stdout",
     "output_type": "stream",
     "text": [
      "x^4 + 3*x^2 + x\r\n"
     ]
    },
    {
     "name": "stdout",
     "output_type": "stream",
     "text": [
      "Primes of bad reduction: [ 3, 5 ]\r\n",
      "\r\n",
      "Reducible image possibly at: [ 2 ]\r\n",
      "\"Field-extension\" image possibly at: []\r\n",
      "Imprimitive image possibly at: []\r\n",
      "\r\n",
      "All possibly non-surjective primes: [ 2, 3, 5, 7 ]\r\n"
     ]
    },
    {
     "name": "stdout",
     "output_type": "stream",
     "text": [
     ]
    }
   ],
   "source": [
    "f := P ! [ 0, 1, 3, 0, 1]; f;\n",
    "nonsurjprimes := possibly_nonsurj_primes(f);"
   ]
  },
  {
   "cell_type": "code",
   "execution_count": 0,
   "metadata": {
    "collapsed": false
   },
   "outputs": [
   ],
   "source": [
   ]
  },
  {
   "cell_type": "code",
   "execution_count": 84,
   "metadata": {
    "collapsed": false
   },
   "outputs": [
    {
     "name": "stdout",
     "output_type": "stream",
     "text": [
      "T^4 - T^2 + T + 1\r\n"
     ]
    },
    {
     "name": "stdout",
     "output_type": "stream",
     "text": [
      "Primes of bad reduction: [ 3, 23 ]\r\n",
      "\r\n",
      "Reducible image possibly at: [ 2 ]\r\n",
      "\"Field-extension\" image possibly at: []\r\n",
      "Imprimitive image possibly at: []\r\n",
      "\r\n",
      "All possibly non-surjective primes: [ 2, 3, 5, 7, 23 ]\r\n"
     ]
    },
    {
     "name": "stdout",
     "output_type": "stream",
     "text": [
     ]
    }
   ],
   "source": [
    "f := P ! [1, 1, -1, 0, 1]; f;\n",
    "nonsurjprimes := possibly_nonsurj_primes(f);"
   ]
  },
  {
   "cell_type": "code",
   "execution_count": 85,
   "metadata": {
    "collapsed": false
   },
   "outputs": [
    {
     "name": "stdout",
     "output_type": "stream",
     "text": [
      "T^4 + 10*T^2 + 8*T + 13\r\n"
     ]
    },
    {
     "name": "stdout",
     "output_type": "stream",
     "text": [
      "Primes of bad reduction: [ 2, 3, 5 ]\r\n",
      "\r\n",
      "Reducible image possibly at: [ 2, 7 ]\r\n",
      "\"Field-extension\" image possibly at: []\r\n",
      "Imprimitive image possibly at: [ 2 ]\r\n",
      "\r\n",
      "All possibly non-surjective primes: [ 2, 3, 5, 7 ]\r\n"
     ]
    },
    {
     "name": "stdout",
     "output_type": "stream",
     "text": [
     ]
    }
   ],
   "source": [
    "f := P ! [ 13, 8, 10, 0, 1]; f;\n",
    "nonsurjprimes := possibly_nonsurj_primes(f : primes_bound := 500);"
   ]
  },
  {
   "cell_type": "code",
   "execution_count": 3,
   "metadata": {
    "collapsed": false
   },
   "outputs": [
    {
     "name": "stdout",
     "output_type": "stream",
     "text": [
      "2\r\n"
     ]
    },
    {
     "name": "stdout",
     "output_type": "stream",
     "text": [
     ]
    }
   ],
   "source": [
    "1 + 1;\n",
    "\n",
    "\n",
    "\n",
    "\n"
   ]
  },
  {
   "cell_type": "code",
   "execution_count": 114,
   "metadata": {
    "collapsed": false
   },
   "outputs": [
    {
     "name": "stdout",
     "output_type": "stream",
     "text": [
      "Loading \"find_image.m\"\r\n",
      "Loading \"Lpolys.m\"\r\n"
     ]
    },
    {
     "name": "stdout",
     "output_type": "stream",
     "text": [
      "Loading \"new_data_7.txt\"\r\n"
     ]
    },
    {
     "name": "stdout",
     "output_type": "stream",
     "text": [
      "x^4 + 30*x^2 + 8*x - 3\r\n"
     ]
    },
    {
     "name": "stdout",
     "output_type": "stream",
     "text": [
      "The image could be one of the following 4 subgroups:\r\n",
      "[\r\n",
      "[\r\n",
      "rec<recformat<order, length, subgroup, presentation> | \r\n",
      "order := 216,\r\n",
      "length := 26068,\r\n",
      "subgroup := MatrixGroup(6, GF(7))\r\n",
      "Generators:\r\n",
      "[3 2 5 0 0 0]\r\n",
      "[6 6 6 0 0 0]\r\n",
      "[0 5 5 0 0 0]\r\n",
      "[0 0 0 1 2 4]\r\n",
      "[0 0 0 1 6 6]\r\n",
      "[0 0 0 5 2 0]\r\n",
      "\r\n",
      "[0 5 3 0 0 0]\r\n",
      "[5 3 5 0 0 0]\r\n",
      "[4 2 1 0 0 0]\r\n",
      "[0 0 0 4 6 5]\r\n",
      "[0 0 0 1 5 6]\r\n",
      "[0 0 0 2 6 0]\r\n",
      "\r\n",
      "[0 0 4 0 0 0]\r\n",
      "[2 3 2 0 0 0]\r\n",
      "[2 0 5 0 0 0]\r\n",
      "[0 0 0 0 2 4]\r\n",
      "[0 0 0 0 5 0]\r\n",
      "[0 0 0 2 2 2]\r\n",
      "\r\n",
      "[5 0 2 0 0 0]\r\n",
      "[1 3 1 0 0 0]\r\n",
      "[1 0 4 0 0 0]\r\n",
      "[0 0 0 3 5 3]\r\n",
      "[0 0 0 0 5 0]\r\n",
      "[0 0 0 5 5 1]\r\n",
      "\r\n",
      "[3 0 0 0 0 0]\r\n",
      "[0 3 0 0 0 0]\r\n",
      "[0 0 3 0 0 0]\r\n",
      "[0 0 0 5 0 0]\r\n",
      "[0 0 0 0 5 0]\r\n",
      "[0 0 0 0 0 5]\r\n",
      "\r\n",
      "[2 0 0 0 0 0]\r\n",
      "[0 2 0 0 0 0]\r\n",
      "[0 0 2 0 0 0]\r\n",
      "[0 0 0 4 0 0]\r\n",
      "[0 0 0 0 4 0]\r\n",
      "[0 0 0 0 0 4]>\r\n",
      "],\r\n",
      "[\r\n",
      "rec<recformat<order, length, subgroup, presentation> | \r\n",
      "order := 1512,\r\n",
      "length := 22344,\r\n",
      "subgroup := MatrixGroup(6, GF(7))\r\n",
      "Generators:\r\n",
      "[3 2 5 0 0 0]\r\n",
      "[6 6 6 0 0 0]\r\n",
      "[0 5 5 0 0 0]\r\n",
      "[0 0 0 1 2 4]\r\n",
      "[0 0 0 1 6 6]\r\n",
      "[0 0 0 5 2 0]\r\n",
      "\r\n",
      "[3 3 2 0 0 0]\r\n",
      "[1 6 1 0 0 0]\r\n",
      "[5 4 6 0 0 0]\r\n",
      "[0 0 0 6 1 2]\r\n",
      "[0 0 0 4 6 3]\r\n",
      "[0 0 0 5 1 3]\r\n",
      "\r\n",
      "[6 0 1 0 0 0]\r\n",
      "[4 5 4 0 0 0]\r\n",
      "[2 0 0 0 0 0]\r\n",
      "[0 0 0 4 2 4]\r\n",
      "[0 0 0 0 3 0]\r\n",
      "[0 0 0 1 2 0]\r\n",
      "\r\n",
      "[3 0 6 0 0 0]\r\n",
      "[3 4 3 0 0 0]\r\n",
      "[5 0 2 0 0 0]\r\n",
      "[0 0 0 6 1 2]\r\n",
      "[0 0 0 0 2 0]\r\n",
      "[0 0 0 4 1 4]\r\n",
      "\r\n",
      "[4 0 2 0 0 0]\r\n",
      "[1 2 1 0 0 0]\r\n",
      "[5 0 0 0 0 0]\r\n",
      "[0 0 0 1 5 3]\r\n",
      "[0 0 0 0 4 0]\r\n",
      "[0 0 0 4 5 0]\r\n",
      "\r\n",
      "[3 0 0 0 0 0]\r\n",
      "[0 3 0 0 0 0]\r\n",
      "[0 0 3 0 0 0]\r\n",
      "[0 0 0 5 0 0]\r\n",
      "[0 0 0 0 5 0]\r\n",
      "[0 0 0 0 0 5]\r\n",
      "\r\n",
      "[2 0 0 0 0 0]\r\n",
      "[0 2 0 0 0 0]\r\n",
      "[0 0 2 0 0 0]\r\n",
      "[0 0 0 4 0 0]\r\n",
      "[0 0 0 0 4 0]\r\n",
      "[0 0 0 0 0 4]>\r\n",
      "],\r\n",
      "[\r\n",
      "rec<recformat<order, length, subgroup, presentation> | \r\n",
      "order := 10584,\r\n",
      "length := 1596,\r\n",
      "subgroup := MatrixGroup(6, GF(7))\r\n",
      "Generators:\r\n",
      "[3 2 5 0 0 0]\r\n",
      "[6 6 6 0 0 0]\r\n",
      "[0 5 5 0 0 0]\r\n",
      "[0 0 0 1 2 4]\r\n",
      "[0 0 0 1 6 6]\r\n",
      "[0 0 0 5 2 0]\r\n",
      "\r\n",
      "[3 1 5 0 0 0]\r\n",
      "[1 2 1 0 0 0]\r\n",
      "[2 6 0 0 0 0]\r\n",
      "[0 0 0 5 2 5]\r\n",
      "[0 0 0 5 4 2]\r\n",
      "[0 0 0 2 2 1]\r\n",
      "\r\n",
      "[2 4 5 0 0 0]\r\n",
      "[3 4 3 0 0 0]\r\n",
      "[4 3 1 0 0 0]\r\n",
      "[0 0 0 2 6 4]\r\n",
      "[0 0 0 2 2 5]\r\n",
      "[0 0 0 0 6 6]\r\n",
      "\r\n",
      "[3 0 5 0 0 0]\r\n",
      "[1 5 1 0 0 0]\r\n",
      "[5 0 3 0 0 0]\r\n",
      "[0 0 0 2 4 6]\r\n",
      "[0 0 0 0 3 0]\r\n",
      "[0 0 0 6 4 2]\r\n",
      "\r\n",
      "[1 0 5 0 0 0]\r\n",
      "[1 3 1 0 0 0]\r\n",
      "[5 0 1 0 0 0]\r\n",
      "[0 0 0 2 5 4]\r\n",
      "[0 0 0 0 5 0]\r\n",
      "[0 0 0 4 5 2]\r\n",
      "\r\n",
      "[1 0 4 0 0 0]\r\n",
      "[0 4 0 0 0 0]\r\n",
      "[3 0 0 0 0 0]\r\n",
      "[0 0 0 4 0 5]\r\n",
      "[0 0 0 0 2 0]\r\n",
      "[0 0 0 2 0 0]\r\n",
      "\r\n",
      "[3 0 0 0 0 0]\r\n",
      "[0 3 0 0 0 0]\r\n",
      "[0 0 3 0 0 0]\r\n",
      "[0 0 0 5 0 0]\r\n",
      "[0 0 0 0 5 0]\r\n",
      "[0 0 0 0 0 5]\r\n",
      "\r\n",
      "[2 0 0 0 0 0]\r\n",
      "[0 2 0 0 0 0]\r\n",
      "[0 0 2 0 0 0]\r\n",
      "[0 0 0 4 0 0]\r\n",
      "[0 0 0 0 4 0]\r\n",
      "[0 0 0 0 0 4]>\r\n",
      "],\r\n",
      "[\r\n",
      "rec<recformat<order, length, subgroup, presentation> | \r\n",
      "order := 74088,\r\n",
      "length := 456,\r\n",
      "subgroup := MatrixGroup(6, GF(7))\r\n",
      "Generators:\r\n",
      "[3 2 5 0 0 0]\r\n",
      "[6 6 6 0 0 0]\r\n",
      "[0 5 5 0 0 0]\r\n",
      "[0 0 0 1 2 4]\r\n",
      "[0 0 0 1 6 6]\r\n",
      "[0 0 0 5 2 0]\r\n",
      "\r\n",
      "[4 5 0 0 0 0]\r\n",
      "[6 3 6 0 0 0]\r\n",
      "[0 2 4 0 0 0]\r\n",
      "[0 0 0 4 3 5]\r\n",
      "[0 0 0 1 5 6]\r\n",
      "[0 0 0 2 3 0]\r\n",
      "\r\n",
      "[2 4 5 0 0 0]\r\n",
      "[3 4 3 0 0 0]\r\n",
      "[4 3 1 0 0 0]\r\n",
      "[0 0 0 2 6 4]\r\n",
      "[0 0 0 2 2 5]\r\n",
      "[0 0 0 0 6 6]\r\n",
      "\r\n",
      "[3 0 0 0 0 0]\r\n",
      "[6 3 6 0 0 0]\r\n",
      "[6 0 2 0 0 0]\r\n",
      "[0 0 0 4 6 0]\r\n",
      "[0 0 0 0 5 0]\r\n",
      "[0 0 0 6 6 5]\r\n",
      "\r\n",
      "[2 0 0 0 0 0]\r\n",
      "[2 2 2 0 0 0]\r\n",
      "[2 0 4 0 0 0]\r\n",
      "[0 0 0 2 5 0]\r\n",
      "[0 0 0 0 4 0]\r\n",
      "[0 0 0 5 5 4]\r\n",
      "\r\n",
      "[5 0 6 0 0 0]\r\n",
      "[6 6 6 0 0 0]\r\n",
      "[1 0 0 0 0 0]\r\n",
      "[0 0 0 5 1 1]\r\n",
      "[0 0 0 0 6 0]\r\n",
      "[0 0 0 6 1 0]\r\n",
      "\r\n",
      "[3 0 0 0 0 0]\r\n",
      "[1 3 1 0 0 0]\r\n",
      "[0 0 3 0 0 0]\r\n",
      "[0 0 0 5 3 0]\r\n",
      "[0 0 0 0 5 0]\r\n",
      "[0 0 0 0 3 5]\r\n",
      "\r\n",
      "[3 0 0 0 0 0]\r\n",
      "[0 3 0 0 0 0]\r\n",
      "[0 0 3 0 0 0]\r\n",
      "[0 0 0 5 0 0]\r\n",
      "[0 0 0 0 5 0]\r\n",
      "[0 0 0 0 0 5]\r\n",
      "\r\n",
      "[2 0 0 0 0 0]\r\n",
      "[0 2 0 0 0 0]\r\n",
      "[0 0 2 0 0 0]\r\n",
      "[0 0 0 4 0 0]\r\n",
      "[0 0 0 0 4 0]\r\n",
      "[0 0 0 0 0 4]>\r\n",
      "]\r\n",
      "]\r\n"
     ]
    },
    {
     "name": "stdout",
     "output_type": "stream",
     "text": [
     ]
    }
   ],
   "source": [
    "load \"find_image.m\";\n",
    "f := P ! [ -3, 8, 30, 0, 1 ]; f;\n",
    "mod_ell_image(f,7 : type := \"reducible\");"
   ]
  },
  {
   "cell_type": "code",
   "execution_count": 0,
   "metadata": {
    "collapsed": false
   },
   "outputs": [
   ],
   "source": [
   ]
  },
  {
   "cell_type": "code",
   "execution_count": 0,
   "metadata": {
    "collapsed": false
   },
   "outputs": [
   ],
   "source": [
    "\n",
    "\n",
    "\n",
    "\n"
   ]
  },
  {
   "cell_type": "code",
   "execution_count": 113,
   "metadata": {
    "collapsed": false
   },
   "outputs": [
    {
     "name": "stdout",
     "output_type": "stream",
     "text": [
      "243*T^4 + 338*T^3 - 147*T^2 - 387*T - 142\r\n"
     ]
    },
    {
     "name": "stdout",
     "output_type": "stream",
     "text": [
      "Primes of bad reduction: [ 2, 3, 5, 7 ]\r\n",
      "\r\n",
      "Reducible image possibly at: [ 2, 13 ]\r\n",
      "\"Field-extension\" image possibly at: []\r\n",
      "Imprimitive image possibly at: [ 2 ]\r\n",
      "\r\n",
      "All possibly non-surjective primes: [ 2, 3, 5, 7, 13 ]\r\n"
     ]
    },
    {
     "name": "stdout",
     "output_type": "stream",
     "text": [
     ]
    }
   ],
   "source": [
    "f := P ! [-142, -387, -147, 338, 243]; f;\n",
    "nonsurjprimes := possibly_nonsurj_primes(f : primes_bound := 500);"
   ]
  },
  {
   "cell_type": "code",
   "execution_count": 0,
   "metadata": {
    "collapsed": false
   },
   "outputs": [
   ],
   "source": [
    "\n",
    "\n",
    "\n",
    "\n",
    "\n"
   ]
  },
  {
   "cell_type": "code",
   "execution_count": 4,
   "metadata": {
    "collapsed": false
   },
   "outputs": [
    {
     "name": "stdout",
     "output_type": "stream",
     "text": [
      "2\r\n"
     ]
    },
    {
     "name": "stdout",
     "output_type": "stream",
     "text": [
     ]
    }
   ],
   "source": [
    "1 + 1;"
   ]
  },
  {
   "cell_type": "code",
   "execution_count": 0,
   "metadata": {
    "collapsed": false
   },
   "outputs": [
   ],
   "source": [
    "Ell"
   ]
  }
 ],
 "metadata": {
  "kernelspec": {
   "display_name": "Magma",
   "env": {
    "PS1": "$"
   },
   "language": "magma",
   "name": "magma",
   "resource_dir": "/usr/local/share/jupyter/kernels/magma"
  },
  "language_info": {
   "codemirror_mode": "pascal",
   "file_extension": ".m",
   "mimetype": "text/x-magma",
   "name": "magma",
   "version": "2.28-2"
  }
 },
 "nbformat": 4,
 "nbformat_minor": 4
}